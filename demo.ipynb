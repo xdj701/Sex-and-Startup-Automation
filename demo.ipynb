{
 "cells": [
  {
   "cell_type": "code",
   "execution_count": 1,
   "id": "d658a26f",
   "metadata": {},
   "outputs": [],
   "source": [
    "%run \"preprocess_data.py\"\n",
    "\n",
    "question = \"Does the charter allow or require indemnification of directors for liability?\"\n",
    "\n",
    "filepath = \"data/ClassificationData.xlsx\"\n",
    "sheet_name = \"IndemnificationFeeInsurance\"\n",
    "df = import_data_from_excel(filepath, sheet_name)\n",
    "df = df[df.apply(lambda x: x[\"Question\"] == question, axis=1)]"
   ]
  },
  {
   "cell_type": "markdown",
   "id": "e9b04c73",
   "metadata": {},
   "source": [
    "### apply the classifier to a hand-curated data set"
   ]
  },
  {
   "cell_type": "code",
   "execution_count": 35,
   "id": "de965dc5",
   "metadata": {
    "scrolled": false
   },
   "outputs": [
    {
     "name": "stdout",
     "output_type": "stream",
     "text": [
      "label: Allow\n",
      "score: 0.89\n",
      "context: The Company is authorized to indemnify to the fullest extent permitted by law any person made or threatened to be made a party to an action or proceeding, whether criminal, civil, administrative or investigative, by reason of the fact that such person was a director or officer of the Company or any predecessor of the Company, or serves or served at any other enterprise as a director or officer at the request of the Company or any predecessor to the Company.\n",
      "\n",
      "label: Allow\n",
      "score: 0.97\n",
      "context: To the fullest extent permitted by applicable law, the Corporation is authorized to provide indemnification of (and advancement of expenses to) directors, officers and agents of the Corporation (and any other persons to which General Corporation Law permits the Corporation to provide indemnification) through Bylaw provisions, agreements with such agents or other persons, vote of stockholders or disinterested directors or otherwise, in excess of the indemnification and advancement otherwise permitted by Section 145 of the General Corporation Law. Cc. MODIFICATION. Any amendment, repeal or modification of the foregoing provisions of this Article VIII shall not adversely affect any right or protection of any director, officer or other agent of the Corporation existing at the time of such amendment, repeal or modification.\n",
      "\n",
      "label: Allow\n",
      "score: 0.96\n",
      "context: To the fullest extent permitted by the DGCL, as it presently exists or as it may hereafter be amended, the Company shall have the power to indemnify (and to advance expenses to) any person who was or is a party or is threatened to be made a party to any threatened, pending or completed action, suit or proceeding, whether civil, criminal, administrative or investigative (a \"Proceeding\") by reason of the fact that he or she is or was a director, officer, employee or agent of the Company or is or was serving at the request of the Company as a director, officer, employee or agent of another corporation, partnership, joint venture, trust or other enterprise, including service with respect to employee benefit plans, against expenses (including attorneys\" fees), judgments, fines and amounts paid in settlement actually and reasonably incurred by such person in connection with any such Proceeding. Cc. Any amendment, repeal or modification of the foregoing provisions of this Article IX, or the adoption of any provision in this Restated Certificate inconsistent with this Article IX, shall be prospective only and shall not adversely affect any right or protection of any director of the Company existing at the time of, or increase the liability of any director of the Company with respect to any acts or omissions of such director occurring prior to, such amendment, repeal, modification or adoption.\n",
      "\n",
      "label: Required\n",
      "score: 0.97\n",
      "context: The Corporation shall indemnify to the fullest extent permitted by law any person made or threatened fo be made a party to an action or proceeding, whether criminal, civil, administrative or investigative, by reason of the fact that he, his testator or intestate is or was a director or officer of the Corporation or any predecessor of the Corporation, of serves or served at any other enterprise as a director or officer at the request of the Corporation or any predecessor to the Corporstion.\n",
      "\n",
      "label: Allow\n",
      "score: 0.95\n",
      "context: This corporation is authorized to provide indemnification of agents (as defined in Section 317 of the CGCL) for breach of duty to the corporation and its stockholders through bylaw provisions or through agreements with the agents, or through stockholder resolutions, or otherwise, in excess of the indemnification otherwise permitted by Section 317 of the CGCL, subject, at any time or times that the corporation is subject to Section 2115(b) of the CGCL, to the limits on such excess indemnification set forth in Section 204 of the CGCL. Cc. Any repeal or modification of this Article VI shall be prospective and shall not affect the rights under this Article VI in effect at the time of the alleged occurrence of any act or omission to act giving rise to liability or indemnification.\n",
      "\n",
      "label: Required\n",
      "score: 0.97\n",
      "context: 1. Right to Indemnification of Directors and Officers. The Corporation shall indemnify and hold harmless, to the fullest extent permitted by applicable law as it presently exists or may hereafter be amended, any person (an \"Indemnified Person\") who was or is made or is threatened to be made a party or is otherwise involved in any action, suit or proceeding, whether civil, criminal, administrative or investigative (a \"Proceeding\"), by reason of the fact that such person, or a person for whom such person is the legal representative, is or was a director or officer of the Corporation or, while a director or officer of the Corporation, is or was serving at the request of the Corporation as a director, officer, employee or agent of another corporation or of a partnership, joint venture, limited liability company, trust, enterprise or nonprofit entity, including service with respect to employee benefit plans, against all liability and loss suffered and expenses (including attorneys\" fees) reasonably incurred by such Indemnified Person in such Proceeding. Notwithstanding the preceding sentence, except as otherwise provided in Section 3 of this Article Tenth, the Corporation shall be required to indemnify an Indemnified Person in connection with a Proceeding (or part thereof) commenced by such Indemnified Person only if the commencement of such Proceeding (or part thereof) by the Indemnified Person was authorized in advance by the Board of Directors.\n",
      "\n",
      "label: Allow\n",
      "score: 0.79\n",
      "context: The Corporation acknowledges that directors may have certain rights to indemnification, advancement of expenses and/or insurance provided by certain of their affiliates and/or one or more stockholders of the Corporation (collectively, the \"Other Indemnitors\"). The Corporation (a) shall be the indemnitor of first resort and its obligations to any such director are primary, (b) shall be required to advance the full amount of expenses incurred by such director and shall be liable for the full amount of all expenses, judgments, penalties, fines and amounts paid in settlement by or on behalf of any such director to the extent legally permitted and as required by this Amended and Restated Certificate of Incorporation and the Bylaws of the Corporation (or any agreement between the Corporation and such director), without regard to any rights such director may have against the Other Indemnitors, and (c) irrevocably waives, relinquishes and releases the Other Indemnitors from any and all claims against the Other Indemnitors for contribution, subrogation or any other recovery of any kind in respect thereof.\n",
      "\n",
      "label: N\n",
      "score: 0.69\n",
      "context: 8. Insurance. The Board of Directors may, to the full extent permitted by applicable law as it presently exists, or may hereafter be amended from time to time, authorize an appropriate officer or officers to purchase and maintain at the Corporation's expense insurance: (a) to indemnify the Corporation for any obligation which it incurs as a result of the indemnification of directors, officers and employees under the provisions of this Article Tenth; and (b) to indemnify or insure directors, officers and employees against liability in instances in which they may not otherwise be indemnified by the Corporation under the provisions of this Article Tenth. \n",
      "\n",
      "label: N\n",
      "score: 0.83\n",
      "context: (e) Insurance. The Corporation may maintain insurance, at its expense, to protect itself and any director, officer, employee or agent of the Corporation or another corporation, partnership, joint venture, trust or other enterprise against any expense, liability or loss, whether or not the Corporation would have the power to indemnify such person against such expense, liability or loss under the General Corporation Law of the State of Delaware.\n",
      "\n"
     ]
    }
   ],
   "source": [
    "from transformers import AutoModelForSequenceClassification, AutoTokenizer, pipeline\n",
    "\n",
    "cls_model = AutoModelForSequenceClassification.from_pretrained(\"./qa/1657115593/models\\checkpoint-69\")\n",
    "cls_tokenizer = AutoTokenizer.from_pretrained(\"distilbert-base-uncased\")\n",
    "classifier = pipeline(\"text-classification\", model=cls_model, tokenizer=cls_tokenizer)\n",
    "\n",
    "for idx, row in df.iterrows():\n",
    "    context = row[\"Context\"]\n",
    "    pred = classifier(context)[0]\n",
    "    label = \"Required\" if pred[\"label\"] == \"LABEL_2\" else \"Allow\" if pred[\"label\"] == \"LABEL_1\" else \"N\"\n",
    "    score = str(pred[\"score\"])[:4]\n",
    "    print(\"label: {}\\nscore: {}\\ncontext: {}\\n\".format(label, score, context))"
   ]
  },
  {
   "cell_type": "markdown",
   "id": "102def5a",
   "metadata": {},
   "source": [
    "### try to apply the classifier on every clause of a corporate charter"
   ]
  },
  {
   "cell_type": "code",
   "execution_count": null,
   "id": "27a6523e",
   "metadata": {},
   "outputs": [],
   "source": [
    "%run \"scan_file.py\"\n",
    "%run \"text_tree.py\"\n",
    "\n",
    "from sentence_transformers import SentenceTransformer, util\n",
    "sts_transformer = SentenceTransformer('sentence-transformers/all-MiniLM-L6-v2')\n",
    "\n",
    "def iter_classify(cls, sts, node):\n",
    "    if node.text:\n",
    "        context = node.text\n",
    "        context_embedding = sts.encode(context)\n",
    "        question_embedding = sts.encode(question)\n",
    "        similarity_score = util.pytorch_cos_sim(question_embedding, context_embedding)[0][0].item()\n",
    "        if similarity_score > 0.5:\n",
    "            pred = cls(context)[0]\n",
    "            label = \"Required\" if pred[\"label\"] == \"LABEL_2\" else \"Allow\" if pred[\"label\"] == \"LABEL_1\" else \"N\"\n",
    "            score = str(pred[\"score\"])[:4]\n",
    "            print(\"label: {}\\nscore: {}\\ncontext: {}\\n\".format(label, score, context))\n",
    "\n",
    "    for child in node.child_nodes:\n",
    "        iter_classify(cls, sts, child)"
   ]
  },
  {
   "cell_type": "code",
   "execution_count": 36,
   "id": "918112e5",
   "metadata": {},
   "outputs": [
    {
     "name": "stdout",
     "output_type": "stream",
     "text": [
      "label: N\n",
      "score: 0.98\n",
      "context: (b) Notwithstanding the provisions of Section 223(a)(l) and 223(a)(2) of the Delaware General Corporation Law, any vacancy, including newly created directorships resulting from any increase in the authorized number of directors or amendment of this Restated Certificate, and vacancies created by removal or resignation of a director, may be filled by a majority of the directors then in office, though less than a quorum, or by a sole remaining director, and the directors so chosen shall hold office until the next annual election and until their successors are duly elected and shall qualify, unless sooner displaced; provided, however, that where such vacancy occurs among the directors elected by the holders of a class or series of stock, the holders of shares of such class or series may override the Board of Directors' action to fill such vacancy by (i) voting for their own designee to fill such vacancy at a meeting of the Corporation's stockholders or (ii) written consent, if the consenting stockholders hold a sufficient number of shares to elect their designee at a meeting of the stockholders. Any director may be removed during his or her term of office, either with or without cause, by, and only by, the affirmative vote of the holders of the shares of the class or series of stock entitled to elect such director or directors, given either at a special meeting of such stockholders duly called for that purpose or pursuant to a written consent of stockholders, and any vacancy thereby created may be filled by the holders of that class or series of stock represented at the meeting or pursuant to written consent. At any meeting held for the purpose of electing a director, the presence in person or by proxy of the holders of a majority of the outstanding shares of the class or series entitled to elect such director shall constitute a quorum for the purpose of electing such director.\n",
      "\n",
      "label: N\n",
      "score: 0.98\n",
      "context: (A) To the fullest extent permitted by the Delaware General Corporation Law, as the same exists or as may hereafter be amended, a director of the Corporation shall not be personally liable to the Corporation or its stockholders for monetary damages for breach of fiduciary duty as a director.\n",
      "\n",
      "label: Required\n",
      "score: 0.97\n",
      "context: (B) The Corporation shall indemnify to the fullest extent permitted by law any person made or threatened to be made a party to an action or proceeding, whether criminal, civil, administrative or investigative, by reason of the fact that he, his testator or intestate is or was a director or officer of the Corporation or any predecessor of the Corporation, or serves or served at any other enterprise as a director or officer at the request of the Corporation or any predecessor to the Corporation.\n",
      "\n"
     ]
    }
   ],
   "source": [
    "pdf = scan_pdf(\"indemnification_required.pdf\")\n",
    "tree = build_text_tree(pdf)\n",
    "iter_classify(classifier, sts_transformer, tree)"
   ]
  },
  {
   "cell_type": "code",
   "execution_count": 37,
   "id": "e1201028",
   "metadata": {},
   "outputs": [
    {
     "name": "stdout",
     "output_type": "stream",
     "text": [
      "label: N\n",
      "score: 0.98\n",
      "context: A. LIMITATION. To the fullest extent permitted by law, a director of the Corporation shall not be personally liable to the Corporation or its stockholders for monetary damages for breach of fiduciary duty as a director. If the General Corporation Law or any otber law of the State of Delaware is amended after approval by tbe stockholders of this Article VIII to autborize corporate action further eliminating or limiting tbe personal liability of directors, then the liability of a director of tbe Corporation shaH be eliminated or limited to the fullest extent permitted by the General Corporation Law as so amended. Any repeal or modification of the foregoing provisions of this Article VIII by the stockholders of tbe Corporation shall not adversely affect any right or protection of a director of tbe Corporation existing at the time of, or increase the liability of any director of tbe Corporation with rcspect to any acts or omissions of su(;h director occurring prior to, such repeal or modification.\n",
      "\n",
      "label: Allow\n",
      "score: 0.96\n",
      "context: B. INDEMNIFICATION. To tbe fullest extent permitted by applicable law, tbe Corporation is authorized to provide indemnification of (and advancement of expenses to) directors, officers and agents of tbe Corporation (and any otber persons to which General Corporation Law permits tbe Corporation to provide indemnification) through Bylaw provisions, agreements witb such agents or other persons, vote of stockholders or disinterested directors or otberwise, in excess of the indemnification and advancement otherwise permitted by Section 145 of tbe General Corporation Law.\n",
      "\n"
     ]
    }
   ],
   "source": [
    "pdf2 = scan_pdf(\"fee_advancement_allowed.pdf\")\n",
    "tree2 = build_text_tree(pdf2)\n",
    "iter_classify(classifier, sts_transformer, tree2)"
   ]
  },
  {
   "cell_type": "code",
   "execution_count": 39,
   "id": "1168699f",
   "metadata": {},
   "outputs": [
    {
     "name": "stdout",
     "output_type": "stream",
     "text": [
      "an OCR-scanned file\n",
      "label: N\n",
      "score: 0.98\n",
      "context: (2) insofar as it consists of property other than cash, be computed at the fair market value thereof at the time of such issuance, as determined in good faith by the Board of Directors, including the approval of at least one of the Preferred Directors; and\n",
      "\n",
      "label: N\n",
      "score: 0.98\n",
      "context: ARTICLE VI. Except as otherwise provided in this Restated Certificate, in furtherance and not in limitation of the powers conferred by statute, the Board of Directors is expressly authorized to make, alter, amend or repeal the bylaws of the Company.\n",
      "\n",
      "label: N\n",
      "score: 0.98\n",
      "context: ARTICLE VIII. To the fullest extent permitted by the Delaware General Corporation Law, as the same exists or as may hereafter be amended from time to time, a director of the Company shall not be personally liable to the Company or its stockholders for monetary damages for breach of fiduciary duty as a director. If the Delaware General Corporation Law is amended to authorize corporate action further eliminating or limiting the personal liability of directors, then the liability of a director of the Company shall be eliminated or limited to the fullest extent permitted by the Delaware General Corporation Law, as so amended. Any repeal or modification of the foregoing provisions of this Article VIII by the stockholders of the Company shall not adversely affect any right or protection of a director of the Company existing at the time of, or increase the liability of any director of the Company with respect to any acts or omissions of such director occurring prior to, such repeal or modification.\n",
      "\n",
      "label: Allow\n",
      "score: 0.85\n",
      "context: ARTICLE IX. To the fullest extent permitted by applicable law, the Company is authorized to provide indemnification of (and advancement of expenses to) directors, officers and agents of the Company (and any other persons to which Delaware General Corporation Law permits the Company to provide indemnification) through bylaw provisions, agreements with such agents or other persons, vote of stockholders or disinterested directors or otherwise, in excess of the indemnification and advancement otherwise permitted by Section 145 of the Delaware General Corporation Law. Any amendment, repeal or modification of the foregoing provisions of this Article IX shall not adversely affect any right or protection of any director, officer or other agent of the Company existing at the time of such amendment, repeal or modification.\n",
      "\n"
     ]
    }
   ],
   "source": [
    "pdf3 = scan_pdf(\"named_docs/DE_Unequal_CommonStocks.pdf\")\n",
    "tree3 = build_text_tree(pdf3)\n",
    "iter_classify(classifier, sts_transformer, tree3)"
   ]
  },
  {
   "cell_type": "code",
   "execution_count": 40,
   "id": "e8375b47",
   "metadata": {},
   "outputs": [
    {
     "name": "stdout",
     "output_type": "stream",
     "text": [
      "an OCR-scanned file\n",
      "label: N\n",
      "score: 0.97\n",
      "context: A. Limitation of Directors\" Liability. The liability of the directors of the corporation for monetary damages shall be eliminated to the fullest extent permissible under California law. A0755685\n",
      "\n",
      "label: Allow\n",
      "score: 0.70\n",
      "context: B. Indemnification of Corporate Agents. The corporation is authorized to provide indemnification of agents (as defined in Section 317 of the California Corporations Code) through bylaw provisions, agreements with agents, vote of shareholders or disinterested directors or otherwise, in excess of the indemnification otherwise permitted by Section 317 of the California Corporations Code, subject only to the applicable limits set forth in Section 204 of the California Corporations Code with respect to actions for breach of duty to the corporation and its shareholders. Cc. Repeal or Modification. No repeal or modification of this article shall adversely affect any right to limitation of liability of a director or indemnification of agents of the corporation relating to acts or omissions that occur before such repeal or modification.\n",
      "\n"
     ]
    }
   ],
   "source": [
    "pdf4 = scan_pdf(\"named_docs/CA_Restatement.pdf\")\n",
    "tree4 = build_text_tree(pdf4)\n",
    "iter_classify(classifier, sts_transformer, tree4)"
   ]
  }
 ],
 "metadata": {
  "kernelspec": {
   "display_name": "Python 3 (ipykernel)",
   "language": "python",
   "name": "python3"
  },
  "language_info": {
   "codemirror_mode": {
    "name": "ipython",
    "version": 3
   },
   "file_extension": ".py",
   "mimetype": "text/x-python",
   "name": "python",
   "nbconvert_exporter": "python",
   "pygments_lexer": "ipython3",
   "version": "3.9.12"
  }
 },
 "nbformat": 4,
 "nbformat_minor": 5
}
